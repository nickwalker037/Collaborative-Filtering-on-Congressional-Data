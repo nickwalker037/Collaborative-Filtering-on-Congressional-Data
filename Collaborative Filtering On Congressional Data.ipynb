{
 "cells": [
  {
   "cell_type": "code",
   "execution_count": 3,
   "metadata": {
    "collapsed": true
   },
   "outputs": [],
   "source": [
    "import pandas as pd\n",
    "import numpy as np\n",
    "from scipy.sparse import coo_matrix"
   ]
  },
  {
   "cell_type": "code",
   "execution_count": 4,
   "metadata": {
    "collapsed": true
   },
   "outputs": [],
   "source": [
    "df = pd.read_csv(\"C:/Users/nwalker018/Desktop/Python/bills/bills_with_sponsor.csv\")\n",
    "df1 = pd.read_csv(\"C:/Users/nwalker018/Desktop/Python/bills/bill_cosponsorship.csv\")\n",
    "df2 = pd.read_csv(\"C:/Users/nwalker018/Desktop/Python/bills/bill_details.csv\")\n",
    "df3 = pd.DataFrame(df2)"
   ]
  },
  {
   "cell_type": "code",
   "execution_count": 5,
   "metadata": {},
   "outputs": [
    {
     "data": {
      "text/html": [
       "<div>\n",
       "<style>\n",
       "    .dataframe thead tr:only-child th {\n",
       "        text-align: right;\n",
       "    }\n",
       "\n",
       "    .dataframe thead th {\n",
       "        text-align: left;\n",
       "    }\n",
       "\n",
       "    .dataframe tbody tr th {\n",
       "        vertical-align: top;\n",
       "    }\n",
       "</style>\n",
       "<table border=\"1\" class=\"dataframe\">\n",
       "  <thead>\n",
       "    <tr style=\"text-align: right;\">\n",
       "      <th></th>\n",
       "      <th>id</th>\n",
       "      <th>first_name</th>\n",
       "      <th>last_name</th>\n",
       "      <th>bill_number</th>\n",
       "      <th>sponsor_state</th>\n",
       "      <th>sponsor_party</th>\n",
       "    </tr>\n",
       "  </thead>\n",
       "  <tbody>\n",
       "    <tr>\n",
       "      <th>0</th>\n",
       "      <td>M001165</td>\n",
       "      <td>Kevin</td>\n",
       "      <td>McCarthy</td>\n",
       "      <td>H.RES.2</td>\n",
       "      <td>CA</td>\n",
       "      <td>R</td>\n",
       "    </tr>\n",
       "    <tr>\n",
       "      <th>1</th>\n",
       "      <td>S000250</td>\n",
       "      <td>Pete</td>\n",
       "      <td>Sessions</td>\n",
       "      <td>H.CON.RES.1</td>\n",
       "      <td>TX</td>\n",
       "      <td>R</td>\n",
       "    </tr>\n",
       "    <tr>\n",
       "      <th>2</th>\n",
       "      <td>G000553</td>\n",
       "      <td>Al</td>\n",
       "      <td>Green</td>\n",
       "      <td>H.CON.RES.3</td>\n",
       "      <td>TX</td>\n",
       "      <td>D</td>\n",
       "    </tr>\n",
       "    <tr>\n",
       "      <th>3</th>\n",
       "      <td>C001053</td>\n",
       "      <td>Tom</td>\n",
       "      <td>Cole</td>\n",
       "      <td>H.CON.RES.2</td>\n",
       "      <td>OK</td>\n",
       "      <td>R</td>\n",
       "    </tr>\n",
       "    <tr>\n",
       "      <th>4</th>\n",
       "      <td>J000032</td>\n",
       "      <td>Sheila</td>\n",
       "      <td>Jackson Lee</td>\n",
       "      <td>H.RES.13</td>\n",
       "      <td>TX</td>\n",
       "      <td>D</td>\n",
       "    </tr>\n",
       "  </tbody>\n",
       "</table>\n",
       "</div>"
      ],
      "text/plain": [
       "        id first_name    last_name  bill_number sponsor_state sponsor_party\n",
       "0  M001165      Kevin     McCarthy      H.RES.2            CA             R\n",
       "1  S000250       Pete     Sessions  H.CON.RES.1            TX             R\n",
       "2  G000553         Al        Green  H.CON.RES.3            TX             D\n",
       "3  C001053        Tom         Cole  H.CON.RES.2            OK             R\n",
       "4  J000032     Sheila  Jackson Lee     H.RES.13            TX             D"
      ]
     },
     "execution_count": 5,
     "metadata": {},
     "output_type": "execute_result"
    }
   ],
   "source": [
    "df.head()"
   ]
  },
  {
   "cell_type": "code",
   "execution_count": 6,
   "metadata": {
    "scrolled": true
   },
   "outputs": [
    {
     "data": {
      "text/html": [
       "<div>\n",
       "<style>\n",
       "    .dataframe thead tr:only-child th {\n",
       "        text-align: right;\n",
       "    }\n",
       "\n",
       "    .dataframe thead th {\n",
       "        text-align: left;\n",
       "    }\n",
       "\n",
       "    .dataframe tbody tr th {\n",
       "        vertical-align: top;\n",
       "    }\n",
       "</style>\n",
       "<table border=\"1\" class=\"dataframe\">\n",
       "  <thead>\n",
       "    <tr style=\"text-align: right;\">\n",
       "      <th></th>\n",
       "      <th>bill_number</th>\n",
       "      <th>title</th>\n",
       "      <th>primary_subject</th>\n",
       "    </tr>\n",
       "  </thead>\n",
       "  <tbody>\n",
       "    <tr>\n",
       "      <th>0</th>\n",
       "      <td>H.RES.2</td>\n",
       "      <td>To inform the Senate that a quorum of the Hous...</td>\n",
       "      <td>Congress</td>\n",
       "    </tr>\n",
       "    <tr>\n",
       "      <th>1</th>\n",
       "      <td>H.CON.RES.1</td>\n",
       "      <td>Regarding consent to assemble outside the seat...</td>\n",
       "      <td>Congress</td>\n",
       "    </tr>\n",
       "    <tr>\n",
       "      <th>2</th>\n",
       "      <td>H.CON.RES.3</td>\n",
       "      <td>Recognizing former United States Federal Judge...</td>\n",
       "      <td>Civil Rights and Liberties, Minority Issues</td>\n",
       "    </tr>\n",
       "    <tr>\n",
       "      <th>3</th>\n",
       "      <td>H.CON.RES.2</td>\n",
       "      <td>To authorize the use of United States Armed Fo...</td>\n",
       "      <td>International Affairs</td>\n",
       "    </tr>\n",
       "    <tr>\n",
       "      <th>4</th>\n",
       "      <td>H.RES.13</td>\n",
       "      <td>Expressing the sense of the House of Represent...</td>\n",
       "      <td>Emergency Management</td>\n",
       "    </tr>\n",
       "  </tbody>\n",
       "</table>\n",
       "</div>"
      ],
      "text/plain": [
       "   bill_number                                              title  \\\n",
       "0      H.RES.2  To inform the Senate that a quorum of the Hous...   \n",
       "1  H.CON.RES.1  Regarding consent to assemble outside the seat...   \n",
       "2  H.CON.RES.3  Recognizing former United States Federal Judge...   \n",
       "3  H.CON.RES.2  To authorize the use of United States Armed Fo...   \n",
       "4     H.RES.13  Expressing the sense of the House of Represent...   \n",
       "\n",
       "                               primary_subject  \n",
       "0                                     Congress  \n",
       "1                                     Congress  \n",
       "2  Civil Rights and Liberties, Minority Issues  \n",
       "3                        International Affairs  \n",
       "4                         Emergency Management  "
      ]
     },
     "execution_count": 6,
     "metadata": {},
     "output_type": "execute_result"
    }
   ],
   "source": [
    "df3.head()"
   ]
  },
  {
   "cell_type": "code",
   "execution_count": 7,
   "metadata": {},
   "outputs": [
    {
     "data": {
      "text/html": [
       "<div>\n",
       "<style>\n",
       "    .dataframe thead tr:only-child th {\n",
       "        text-align: right;\n",
       "    }\n",
       "\n",
       "    .dataframe thead th {\n",
       "        text-align: left;\n",
       "    }\n",
       "\n",
       "    .dataframe tbody tr th {\n",
       "        vertical-align: top;\n",
       "    }\n",
       "</style>\n",
       "<table border=\"1\" class=\"dataframe\">\n",
       "  <thead>\n",
       "    <tr style=\"text-align: right;\">\n",
       "      <th></th>\n",
       "      <th>bill_number</th>\n",
       "      <th>title</th>\n",
       "      <th>primary_subject</th>\n",
       "    </tr>\n",
       "  </thead>\n",
       "  <tbody>\n",
       "    <tr>\n",
       "      <th>0</th>\n",
       "      <td>H.RES.2</td>\n",
       "      <td>To inform the Senate that a quorum of the Hous...</td>\n",
       "      <td>Congress</td>\n",
       "    </tr>\n",
       "    <tr>\n",
       "      <th>1</th>\n",
       "      <td>H.CON.RES.1</td>\n",
       "      <td>Regarding consent to assemble outside the seat...</td>\n",
       "      <td>Congress</td>\n",
       "    </tr>\n",
       "    <tr>\n",
       "      <th>2</th>\n",
       "      <td>H.CON.RES.3</td>\n",
       "      <td>Recognizing former United States Federal Judge...</td>\n",
       "      <td>Civil Rights and Liberties, Minority Issues</td>\n",
       "    </tr>\n",
       "    <tr>\n",
       "      <th>3</th>\n",
       "      <td>H.CON.RES.2</td>\n",
       "      <td>To authorize the use of United States Armed Fo...</td>\n",
       "      <td>International Affairs</td>\n",
       "    </tr>\n",
       "    <tr>\n",
       "      <th>4</th>\n",
       "      <td>H.RES.13</td>\n",
       "      <td>Expressing the sense of the House of Represent...</td>\n",
       "      <td>Emergency Management</td>\n",
       "    </tr>\n",
       "  </tbody>\n",
       "</table>\n",
       "</div>"
      ],
      "text/plain": [
       "   bill_number                                              title  \\\n",
       "0      H.RES.2  To inform the Senate that a quorum of the Hous...   \n",
       "1  H.CON.RES.1  Regarding consent to assemble outside the seat...   \n",
       "2  H.CON.RES.3  Recognizing former United States Federal Judge...   \n",
       "3  H.CON.RES.2  To authorize the use of United States Armed Fo...   \n",
       "4     H.RES.13  Expressing the sense of the House of Represent...   \n",
       "\n",
       "                               primary_subject  \n",
       "0                                     Congress  \n",
       "1                                     Congress  \n",
       "2  Civil Rights and Liberties, Minority Issues  \n",
       "3                        International Affairs  \n",
       "4                         Emergency Management  "
      ]
     },
     "execution_count": 7,
     "metadata": {},
     "output_type": "execute_result"
    }
   ],
   "source": [
    "df2.head()"
   ]
  },
  {
   "cell_type": "code",
   "execution_count": 8,
   "metadata": {},
   "outputs": [
    {
     "data": {
      "text/html": [
       "<div>\n",
       "<style>\n",
       "    .dataframe thead tr:only-child th {\n",
       "        text-align: right;\n",
       "    }\n",
       "\n",
       "    .dataframe thead th {\n",
       "        text-align: left;\n",
       "    }\n",
       "\n",
       "    .dataframe tbody tr th {\n",
       "        vertical-align: top;\n",
       "    }\n",
       "</style>\n",
       "<table border=\"1\" class=\"dataframe\">\n",
       "  <thead>\n",
       "    <tr style=\"text-align: right;\">\n",
       "      <th></th>\n",
       "      <th>bill_number</th>\n",
       "      <th>title</th>\n",
       "      <th>primary_subject</th>\n",
       "    </tr>\n",
       "  </thead>\n",
       "  <tbody>\n",
       "    <tr>\n",
       "      <th>0</th>\n",
       "      <td>H.RES.2</td>\n",
       "      <td>To inform the Senate that a quorum of the Hous...</td>\n",
       "      <td>Congress</td>\n",
       "    </tr>\n",
       "    <tr>\n",
       "      <th>1</th>\n",
       "      <td>H.CON.RES.1</td>\n",
       "      <td>Regarding consent to assemble outside the seat...</td>\n",
       "      <td>Congress</td>\n",
       "    </tr>\n",
       "  </tbody>\n",
       "</table>\n",
       "</div>"
      ],
      "text/plain": [
       "   bill_number                                              title  \\\n",
       "0      H.RES.2  To inform the Senate that a quorum of the Hous...   \n",
       "1  H.CON.RES.1  Regarding consent to assemble outside the seat...   \n",
       "\n",
       "  primary_subject  \n",
       "0        Congress  \n",
       "1        Congress  "
      ]
     },
     "execution_count": 8,
     "metadata": {},
     "output_type": "execute_result"
    }
   ],
   "source": [
    "df2[:2]"
   ]
  },
  {
   "cell_type": "code",
   "execution_count": 9,
   "metadata": {
    "collapsed": true
   },
   "outputs": [],
   "source": [
    "import re, math\n",
    "from collections import Counter"
   ]
  },
  {
   "cell_type": "code",
   "execution_count": 10,
   "metadata": {
    "collapsed": true
   },
   "outputs": [],
   "source": [
    "WORD = re.compile(r'\\w+')"
   ]
  },
  {
   "cell_type": "code",
   "execution_count": 11,
   "metadata": {
    "collapsed": true
   },
   "outputs": [],
   "source": [
    "def cosine_sim(a, b):\n",
    "    \"\"\"Takes 2 vectors a, b and returns the cosine similarity according \n",
    "    to the definition of the dot product\"\"\"\n",
    "    dot_product = np.dot(a, b)\n",
    "    norm_a = np.linalg.norm(a)\n",
    "    norm_b = np.linalg.norm(b)\n",
    "    return dot_product / (norm_a * norm_b)"
   ]
  },
  {
   "cell_type": "code",
   "execution_count": 12,
   "metadata": {
    "collapsed": true
   },
   "outputs": [],
   "source": [
    "def makeVector(self, wordString):\n",
    "        \"\"\" @pre: unique(vectorIndex) \"\"\"\n",
    "\n",
    "        #Initialise vector with 0's\n",
    "        vector = [0] * len(self.vectorKeywordIndex)\n",
    "        wordList = self.parser.tokenise(wordString)\n",
    "        wordList = self.parser.removeStopWords(wordList)\n",
    "        for word in wordList:\n",
    "                vector[self.vectorKeywordIndex[word]] += 1; #Use simple Term Count Model\n",
    "        return vector"
   ]
  },
  {
   "cell_type": "code",
   "execution_count": 13,
   "metadata": {
    "collapsed": true
   },
   "outputs": [],
   "source": [
    "#df3.iloc[:,[0,2]]\n",
    "def sparse_matrix(df):\n",
    "    \n",
    "    df['bill_number'] = df['bill_number'].astype(\"category\")\n",
    "    df['primary_subject'] = df['primary_subject'].astype(\"category\")\n",
    "    \n",
    "    out = coo_matrix(df['bill_number'].cat.codes.copy(),\n",
    "                     df['primary_subject'].cat.codes.copy())\n",
    "    return out"
   ]
  },
  {
   "cell_type": "code",
   "execution_count": 14,
   "metadata": {},
   "outputs": [
    {
     "data": {
      "text/plain": [
       "<1x7977 sparse matrix of type '<class 'numpy.int16'>'\n",
       "\twith 7976 stored elements in COOrdinate format>"
      ]
     },
     "execution_count": 14,
     "metadata": {},
     "output_type": "execute_result"
    }
   ],
   "source": [
    "sparse_matrix(df3)"
   ]
  },
  {
   "cell_type": "markdown",
   "metadata": {},
   "source": [
    "<h2> BM25 Matching </h2>\n",
    "- BM - Best Matching\n",
    "- ***Is one of the best probablistic weighting schemes***\n",
    "- is a bag-of-words retrieval function that ranks a set of documents based on the query terms appearing in each document\n",
    "![alt text](Desktop/BM25.png)\n",
    "\n",
    "<div style='float: center'>\n",
    "  <img style='width: 600px' src=\"Desktop/BM25.PNG\"></img>\n",
    "</div>"
   ]
  },
  {
   "cell_type": "code",
   "execution_count": 19,
   "metadata": {},
   "outputs": [],
   "source": [
    "def bm25_weight(X, K1=3000, B=0.8):\n",
    "    \"\"\" Weighs each row of the sparse matrix of the data by BM25 weighting \"\"\"\n",
    "    # calculate idf per term (user)\n",
    "    X = coo_matrix(X)\n",
    "    N = x.shape[0]\n",
    "    idf = np.log(float(N) / (1 + np.bincount(X.col)))\n",
    "    \n",
    "    # calculate length_norm per document \n",
    "    row_sums = np.ravel(X.sum(axis=1))\n",
    "    avg_length = row_sums.mean()\n",
    "    length_norm = (1.0 - B) + B * row_sums / avg_length\n",
    "    \n",
    "    # weight matrix rows by BM25\n",
    "    X.data = X.data * (K1 + 1.0) / (k1 * length_norm[x.row] + X.data) * idf[X.col]\n",
    "    return X"
   ]
  },
  {
   "cell_type": "code",
   "execution_count": 20,
   "metadata": {
    "collapsed": true
   },
   "outputs": [],
   "source": [
    "class TopRelated(object):\n",
    "    def __init__(self, congress_factors):\n",
    "        # fully normalize congress_factors, so we can compare with only the dot product\n",
    "        norms = np.linalg.norm(congress_factors, axis=-1)\n",
    "        self.factors = congress_factors / norms[:, np.newaxis]\n",
    "        \n",
    "    def get_related(self, congressID, N=10):\n",
    "        scores = self.factors.dot(self.factors[congressID])\n",
    "        best = numpy.argpartition(scores, -N)[-N:]\n",
    "        return sorted(zip(best, scores[best]), key=lambda x: -x[1])"
   ]
  },
  {
   "cell_type": "code",
   "execution_count": null,
   "metadata": {
    "collapsed": true
   },
   "outputs": [],
   "source": []
  }
 ],
 "metadata": {
  "kernelspec": {
   "display_name": "Python 3",
   "language": "python",
   "name": "python3"
  },
  "language_info": {
   "codemirror_mode": {
    "name": "ipython",
    "version": 3
   },
   "file_extension": ".py",
   "mimetype": "text/x-python",
   "name": "python",
   "nbconvert_exporter": "python",
   "pygments_lexer": "ipython3",
   "version": "3.6.3"
  }
 },
 "nbformat": 4,
 "nbformat_minor": 2
}
